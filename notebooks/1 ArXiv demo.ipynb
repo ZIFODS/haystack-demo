{
 "cells": [
  {
   "cell_type": "markdown",
   "id": "dba204ae-fa08-493a-bad8-616d913e52a2",
   "metadata": {},
   "source": [
    "# Document retrieval\n",
    "\n",
    "**Can we query the ArXiv documents and retrieve the _k_ most common documents based on semantic search?**"
   ]
  },
  {
   "cell_type": "code",
   "execution_count": 1,
   "id": "f7bc1994-4907-4194-8f2b-5dfadf75f7e4",
   "metadata": {},
   "outputs": [
    {
     "name": "stderr",
     "output_type": "stream",
     "text": [
      "/home/ross/anaconda3/envs/haystack/lib/python3.10/site-packages/espnet2/gan_tts/vits/vits.py:43: DeprecationWarning: distutils Version classes are deprecated. Use packaging.version instead.\n",
      "  if LooseVersion(torch.__version__) >= LooseVersion(\"1.6.0\"):\n"
     ]
    }
   ],
   "source": [
    "from haystack.pipelines import MostSimilarDocumentsPipeline, DocumentSearchPipeline\n",
    "from haystack.document_stores import FAISSDocumentStore\n",
    "from haystack.nodes import PreProcessor, EmbeddingRetriever\n",
    "from haystack.utils import launch_milvus\n",
    "from haystack.schema import Document"
   ]
  },
  {
   "cell_type": "code",
   "execution_count": 2,
   "id": "d253add4-bac0-46b2-a490-095ea551a7bb",
   "metadata": {},
   "outputs": [],
   "source": [
    "from tqdm.notebook import tqdm\n",
    "import pandas as pd\n",
    "\n",
    "from typing import List, Dict, Optional, Union, Tuple\n",
    "import logging\n",
    "import pickle\n",
    "import time\n",
    "import os"
   ]
  },
  {
   "cell_type": "code",
   "execution_count": 3,
   "id": "ec945a4b-e1ef-448d-b316-8d11159f8e14",
   "metadata": {},
   "outputs": [],
   "source": [
    "logging.basicConfig(format=\"%(levelname)s - %(name)s -  %(message)s\", level=logging.WARNING)\n",
    "logger = logging.getLogger(\"haystack\")\n",
    "logger.setLevel(logging.INFO)"
   ]
  },
  {
   "cell_type": "markdown",
   "id": "dcc751f4-68a5-46e1-9e7f-b4153abd41a0",
   "metadata": {},
   "source": [
    "<h2>Load in ArXiv meta-data</h2>"
   ]
  },
  {
   "cell_type": "code",
   "execution_count": 4,
   "id": "6b9fb980-8109-4c14-b5c8-cf850e81177a",
   "metadata": {},
   "outputs": [],
   "source": [
    "arxiv_json_data = pd.read_json('../data/arxiv/arxiv-metadata-oai-snapshot.json', lines=True)"
   ]
  },
  {
   "cell_type": "code",
   "execution_count": 5,
   "id": "5bd9100a-45aa-4322-9938-75c6fedd6c47",
   "metadata": {},
   "outputs": [
    {
     "data": {
      "text/plain": [
       "(2162833, 14)"
      ]
     },
     "execution_count": 5,
     "metadata": {},
     "output_type": "execute_result"
    }
   ],
   "source": [
    "arxiv_json_data.shape"
   ]
  },
  {
   "cell_type": "code",
   "execution_count": 6,
   "id": "b20174eb-7804-464a-8b22-4e934a13a0bd",
   "metadata": {},
   "outputs": [
    {
     "name": "stdout",
     "output_type": "stream",
     "text": [
      "<class 'pandas.core.frame.DataFrame'>\n",
      "RangeIndex: 2162833 entries, 0 to 2162832\n",
      "Data columns (total 14 columns):\n",
      " #   Column          Dtype \n",
      "---  ------          ----- \n",
      " 0   id              object\n",
      " 1   submitter       object\n",
      " 2   authors         object\n",
      " 3   title           object\n",
      " 4   comments        object\n",
      " 5   journal-ref     object\n",
      " 6   doi             object\n",
      " 7   report-no       object\n",
      " 8   categories      object\n",
      " 9   license         object\n",
      " 10  abstract        object\n",
      " 11  versions        object\n",
      " 12  update_date     object\n",
      " 13  authors_parsed  object\n",
      "dtypes: object(14)\n",
      "memory usage: 231.0+ MB\n"
     ]
    }
   ],
   "source": [
    "arxiv_json_data.info()"
   ]
  },
  {
   "cell_type": "code",
   "execution_count": 7,
   "id": "464e0de5-8600-4aa0-a31f-ed53fb382392",
   "metadata": {},
   "outputs": [],
   "source": [
    "arxiv_json_data = arxiv_json_data.sample(250000)"
   ]
  },
  {
   "cell_type": "markdown",
   "id": "af0fd390-e023-44a8-8c97-dde8a21673f7",
   "metadata": {},
   "source": [
    "<h2>Preprocess data and create Documents</h2>"
   ]
  },
  {
   "cell_type": "code",
   "execution_count": 8,
   "id": "725cb4b0-75b3-4fc7-b4a7-c8cadd538cea",
   "metadata": {},
   "outputs": [],
   "source": [
    "arxiv_json_data[\"title\"] = arxiv_json_data[\"title\"].str.replace(\"\\n\", \"\")\n",
    "arxiv_json_data[\"abstract\"] = arxiv_json_data[\"abstract\"].str.replace(\"\\n\", \"\")\n",
    "arxiv_json_data[\"content\"] = arxiv_json_data[[\"title\", \"abstract\"]].agg(\" \".join, axis=1)"
   ]
  },
  {
   "cell_type": "code",
   "execution_count": 9,
   "id": "03ec1743-1b38-4a56-8765-81e76b94d0f4",
   "metadata": {},
   "outputs": [],
   "source": [
    "def create_document(row: pd.Series) -> Document:\n",
    "    return Document(\n",
    "            content=row.content,\n",
    "            content_type=\"text\",\n",
    "            id=row.id,\n",
    "            meta={\n",
    "                \"id\": row.id, \n",
    "                \"authors\": row.authors,\n",
    "                \"comments\": row.comments,\n",
    "                \"journal-ref\": row[\"journal-ref\"],\n",
    "                \"doi\": row.doi,\n",
    "                \"report-no\": row[\"report-no\"],\n",
    "                \"categories\": row.categories\n",
    "            }\n",
    "    )"
   ]
  },
  {
   "cell_type": "code",
   "execution_count": 10,
   "id": "46fea5ba-de27-4333-a8ac-306f8c8c2f08",
   "metadata": {},
   "outputs": [
    {
     "data": {
      "application/vnd.jupyter.widget-view+json": {
       "model_id": "0eed85fed2644e66acfc054a29e26a72",
       "version_major": 2,
       "version_minor": 0
      },
      "text/plain": [
       "  0%|          | 0/250000 [00:00<?, ?it/s]"
      ]
     },
     "metadata": {},
     "output_type": "display_data"
    }
   ],
   "source": [
    "documents = [\n",
    "    create_document(row) for _, row in tqdm(arxiv_json_data.iterrows(), total=arxiv_json_data.shape[0])\n",
    "]"
   ]
  },
  {
   "cell_type": "code",
   "execution_count": 11,
   "id": "3e692cf7-614a-472f-9016-0a4d75674f66",
   "metadata": {},
   "outputs": [],
   "source": [
    "preprocessor = PreProcessor(\n",
    "    clean_empty_lines=True,\n",
    "    clean_whitespace=True,\n",
    "    clean_header_footer=False,\n",
    "    split_by=\"word\",\n",
    "    split_length=250,\n",
    "    split_respect_sentence_boundary=True\n",
    ")"
   ]
  },
  {
   "cell_type": "code",
   "execution_count": 12,
   "id": "66362e4c-1754-468c-893d-a0e6411b8064",
   "metadata": {},
   "outputs": [
    {
     "data": {
      "application/vnd.jupyter.widget-view+json": {
       "model_id": "1ee829b3074a4687b61030d13b3db48d",
       "version_major": 2,
       "version_minor": 0
      },
      "text/plain": [
       "Preprocessing:   0%|          | 0/250000 [00:00<?, ?docs/s]"
      ]
     },
     "metadata": {},
     "output_type": "display_data"
    },
    {
     "name": "stderr",
     "output_type": "stream",
     "text": [
      "WARNING:haystack.nodes.preprocessor.preprocessor:We found one or more sentences whose word count is higher than the split length.\n"
     ]
    }
   ],
   "source": [
    "cleaned_docs = preprocessor.process(documents)"
   ]
  },
  {
   "cell_type": "code",
   "execution_count": 13,
   "id": "bec27c48-3b29-47de-a741-cb8d1d01c452",
   "metadata": {},
   "outputs": [],
   "source": [
    "with open(\"../data/arxiv/sample.pkl\", \"wb\") as pkl:\n",
    "    pickle.dump(cleaned_docs, pkl)"
   ]
  },
  {
   "cell_type": "markdown",
   "id": "357861f8-12fa-4b91-be6f-868a11d2934c",
   "metadata": {},
   "source": [
    "<h2>Create document store</h2>"
   ]
  },
  {
   "cell_type": "code",
   "execution_count": 14,
   "id": "49ee1a50-897b-40f0-8a56-507569f5ce74",
   "metadata": {},
   "outputs": [],
   "source": [
    "with open(\"../data/arxiv/sample.pkl\", \"rb\") as pkl:\n",
    "    cleaned_docs = pickle.load(pkl)"
   ]
  },
  {
   "cell_type": "code",
   "execution_count": 15,
   "id": "35898219-cf9a-4044-8ff6-ad81c0681854",
   "metadata": {},
   "outputs": [],
   "source": [
    "document_store = FAISSDocumentStore(\n",
    "    sql_url=\"sqlite:///sample.db\",\n",
    "    faiss_index_factory_str=\"Flat\"\n",
    ")"
   ]
  },
  {
   "cell_type": "code",
   "execution_count": 16,
   "id": "2940f9dd-5b98-4183-a3a8-6095b8602c9f",
   "metadata": {},
   "outputs": [
    {
     "data": {
      "application/vnd.jupyter.widget-view+json": {
       "model_id": "c2aab2d5b9f14de2925956811f09b718",
       "version_major": 2,
       "version_minor": 0
      },
      "text/plain": [
       "Writing Documents:   0%|          | 0/260108 [00:00<?, ?it/s]"
      ]
     },
     "metadata": {},
     "output_type": "display_data"
    }
   ],
   "source": [
    "document_store.write_documents(cleaned_docs)"
   ]
  },
  {
   "cell_type": "markdown",
   "id": "b38ad2c7-dd37-454e-afe8-cfc974ecc625",
   "metadata": {},
   "source": [
    "<h2>Create embeddings</h2>"
   ]
  },
  {
   "cell_type": "code",
   "execution_count": 17,
   "id": "9a08f844-a875-4ab9-93fe-5aeba2c288f7",
   "metadata": {},
   "outputs": [
    {
     "name": "stderr",
     "output_type": "stream",
     "text": [
      "INFO:haystack.modeling.utils:Using devices: CUDA:0 - Number of GPUs: 1\n",
      "INFO:haystack.nodes.retriever.dense:Init retriever using embeddings of model sentence-transformers/msmarco-distilbert-base-tas-b\n"
     ]
    }
   ],
   "source": [
    "retriever = EmbeddingRetriever(\n",
    "    document_store=document_store,\n",
    "   embedding_model=\"sentence-transformers/msmarco-distilbert-base-tas-b\",\n",
    "   model_format=\"sentence_transformers\"\n",
    ")"
   ]
  },
  {
   "cell_type": "code",
   "execution_count": 18,
   "id": "7bb7f8fd-16d5-47f9-8b22-f919fbabeea6",
   "metadata": {},
   "outputs": [
    {
     "name": "stderr",
     "output_type": "stream",
     "text": [
      "INFO:haystack.document_stores.faiss:Updating embeddings for 260102 docs...\n"
     ]
    },
    {
     "data": {
      "application/vnd.jupyter.widget-view+json": {
       "model_id": "0cbd5eb14fdc4c62b5fcf0596dee606a",
       "version_major": 2,
       "version_minor": 0
      },
      "text/plain": [
       "Updating Embedding:   0%|          | 0/260102 [00:00<?, ? docs/s]"
      ]
     },
     "metadata": {},
     "output_type": "display_data"
    },
    {
     "data": {
      "application/vnd.jupyter.widget-view+json": {
       "model_id": "4eff7d6869de458cba9e685855be09b4",
       "version_major": 2,
       "version_minor": 0
      },
      "text/plain": [
       "Batches:   0%|          | 0/313 [00:00<?, ?it/s]"
      ]
     },
     "metadata": {},
     "output_type": "display_data"
    },
    {
     "data": {
      "application/vnd.jupyter.widget-view+json": {
       "model_id": "81b195ac3ef3457f86be3665c437b8b3",
       "version_major": 2,
       "version_minor": 0
      },
      "text/plain": [
       "Batches:   0%|          | 0/313 [00:00<?, ?it/s]"
      ]
     },
     "metadata": {},
     "output_type": "display_data"
    },
    {
     "data": {
      "application/vnd.jupyter.widget-view+json": {
       "model_id": "8c382cc400ac43fb9a9e2258a558f55d",
       "version_major": 2,
       "version_minor": 0
      },
      "text/plain": [
       "Batches:   0%|          | 0/313 [00:00<?, ?it/s]"
      ]
     },
     "metadata": {},
     "output_type": "display_data"
    },
    {
     "data": {
      "application/vnd.jupyter.widget-view+json": {
       "model_id": "4fd1c07ca8354f4080edce66a79c3d29",
       "version_major": 2,
       "version_minor": 0
      },
      "text/plain": [
       "Batches:   0%|          | 0/313 [00:00<?, ?it/s]"
      ]
     },
     "metadata": {},
     "output_type": "display_data"
    },
    {
     "data": {
      "application/vnd.jupyter.widget-view+json": {
       "model_id": "e2f3085e03e94abfb741e8d07060bd55",
       "version_major": 2,
       "version_minor": 0
      },
      "text/plain": [
       "Batches:   0%|          | 0/313 [00:00<?, ?it/s]"
      ]
     },
     "metadata": {},
     "output_type": "display_data"
    },
    {
     "data": {
      "application/vnd.jupyter.widget-view+json": {
       "model_id": "aeb67fed0abe4a179ca759b61789c8b9",
       "version_major": 2,
       "version_minor": 0
      },
      "text/plain": [
       "Batches:   0%|          | 0/313 [00:00<?, ?it/s]"
      ]
     },
     "metadata": {},
     "output_type": "display_data"
    },
    {
     "data": {
      "application/vnd.jupyter.widget-view+json": {
       "model_id": "768c9a06d3da48d9bbac1de1df15fa4f",
       "version_major": 2,
       "version_minor": 0
      },
      "text/plain": [
       "Batches:   0%|          | 0/313 [00:00<?, ?it/s]"
      ]
     },
     "metadata": {},
     "output_type": "display_data"
    },
    {
     "data": {
      "application/vnd.jupyter.widget-view+json": {
       "model_id": "a62a19588af74c2b936a32ad95114521",
       "version_major": 2,
       "version_minor": 0
      },
      "text/plain": [
       "Batches:   0%|          | 0/313 [00:00<?, ?it/s]"
      ]
     },
     "metadata": {},
     "output_type": "display_data"
    },
    {
     "data": {
      "application/vnd.jupyter.widget-view+json": {
       "model_id": "91a43106e67841eeba4813ea9786ce84",
       "version_major": 2,
       "version_minor": 0
      },
      "text/plain": [
       "Batches:   0%|          | 0/313 [00:00<?, ?it/s]"
      ]
     },
     "metadata": {},
     "output_type": "display_data"
    },
    {
     "data": {
      "application/vnd.jupyter.widget-view+json": {
       "model_id": "0c7af9e6312c4bdcbf5ab7754bccdb42",
       "version_major": 2,
       "version_minor": 0
      },
      "text/plain": [
       "Batches:   0%|          | 0/313 [00:00<?, ?it/s]"
      ]
     },
     "metadata": {},
     "output_type": "display_data"
    },
    {
     "data": {
      "application/vnd.jupyter.widget-view+json": {
       "model_id": "f579230b27de492bb82c412f2c0d09fd",
       "version_major": 2,
       "version_minor": 0
      },
      "text/plain": [
       "Batches:   0%|          | 0/313 [00:00<?, ?it/s]"
      ]
     },
     "metadata": {},
     "output_type": "display_data"
    },
    {
     "data": {
      "application/vnd.jupyter.widget-view+json": {
       "model_id": "d06b9234894b4e128c879ea6965f84a7",
       "version_major": 2,
       "version_minor": 0
      },
      "text/plain": [
       "Batches:   0%|          | 0/313 [00:00<?, ?it/s]"
      ]
     },
     "metadata": {},
     "output_type": "display_data"
    },
    {
     "data": {
      "application/vnd.jupyter.widget-view+json": {
       "model_id": "f1ad1b7203ab416eae2022f74bed292e",
       "version_major": 2,
       "version_minor": 0
      },
      "text/plain": [
       "Batches:   0%|          | 0/313 [00:00<?, ?it/s]"
      ]
     },
     "metadata": {},
     "output_type": "display_data"
    },
    {
     "data": {
      "application/vnd.jupyter.widget-view+json": {
       "model_id": "38371c0830d041f6b7774d6c02fd9e48",
       "version_major": 2,
       "version_minor": 0
      },
      "text/plain": [
       "Batches:   0%|          | 0/313 [00:00<?, ?it/s]"
      ]
     },
     "metadata": {},
     "output_type": "display_data"
    },
    {
     "data": {
      "application/vnd.jupyter.widget-view+json": {
       "model_id": "1f779b56249840afb1197801bd6edcc8",
       "version_major": 2,
       "version_minor": 0
      },
      "text/plain": [
       "Batches:   0%|          | 0/313 [00:00<?, ?it/s]"
      ]
     },
     "metadata": {},
     "output_type": "display_data"
    },
    {
     "data": {
      "application/vnd.jupyter.widget-view+json": {
       "model_id": "f60b6cf16e134d768b090b940bfbaddd",
       "version_major": 2,
       "version_minor": 0
      },
      "text/plain": [
       "Batches:   0%|          | 0/313 [00:00<?, ?it/s]"
      ]
     },
     "metadata": {},
     "output_type": "display_data"
    },
    {
     "data": {
      "application/vnd.jupyter.widget-view+json": {
       "model_id": "84342e94e927455ab4d7f8c5906c9c0e",
       "version_major": 2,
       "version_minor": 0
      },
      "text/plain": [
       "Batches:   0%|          | 0/313 [00:00<?, ?it/s]"
      ]
     },
     "metadata": {},
     "output_type": "display_data"
    },
    {
     "data": {
      "application/vnd.jupyter.widget-view+json": {
       "model_id": "738d8ae1e6ae487782ab3775f0f35c60",
       "version_major": 2,
       "version_minor": 0
      },
      "text/plain": [
       "Batches:   0%|          | 0/313 [00:00<?, ?it/s]"
      ]
     },
     "metadata": {},
     "output_type": "display_data"
    },
    {
     "data": {
      "application/vnd.jupyter.widget-view+json": {
       "model_id": "ab2cd54654334ab4980199f1cd8ceb27",
       "version_major": 2,
       "version_minor": 0
      },
      "text/plain": [
       "Batches:   0%|          | 0/313 [00:00<?, ?it/s]"
      ]
     },
     "metadata": {},
     "output_type": "display_data"
    },
    {
     "data": {
      "application/vnd.jupyter.widget-view+json": {
       "model_id": "540da03959eb4f39b4169f0a720eff55",
       "version_major": 2,
       "version_minor": 0
      },
      "text/plain": [
       "Batches:   0%|          | 0/313 [00:00<?, ?it/s]"
      ]
     },
     "metadata": {},
     "output_type": "display_data"
    },
    {
     "data": {
      "application/vnd.jupyter.widget-view+json": {
       "model_id": "b40c050ea15c4d3093577c4df403bd18",
       "version_major": 2,
       "version_minor": 0
      },
      "text/plain": [
       "Batches:   0%|          | 0/313 [00:00<?, ?it/s]"
      ]
     },
     "metadata": {},
     "output_type": "display_data"
    },
    {
     "data": {
      "application/vnd.jupyter.widget-view+json": {
       "model_id": "8c3dd8ae679e42898930ee361095d045",
       "version_major": 2,
       "version_minor": 0
      },
      "text/plain": [
       "Batches:   0%|          | 0/313 [00:00<?, ?it/s]"
      ]
     },
     "metadata": {},
     "output_type": "display_data"
    },
    {
     "data": {
      "application/vnd.jupyter.widget-view+json": {
       "model_id": "eeea9deeee0843fd90f9da37c38ef3d1",
       "version_major": 2,
       "version_minor": 0
      },
      "text/plain": [
       "Batches:   0%|          | 0/313 [00:00<?, ?it/s]"
      ]
     },
     "metadata": {},
     "output_type": "display_data"
    },
    {
     "data": {
      "application/vnd.jupyter.widget-view+json": {
       "model_id": "a6e9b30b73ac4011977a81a9694e35f5",
       "version_major": 2,
       "version_minor": 0
      },
      "text/plain": [
       "Batches:   0%|          | 0/313 [00:00<?, ?it/s]"
      ]
     },
     "metadata": {},
     "output_type": "display_data"
    },
    {
     "data": {
      "application/vnd.jupyter.widget-view+json": {
       "model_id": "f3c1e42d89184a6483e3c672289466fd",
       "version_major": 2,
       "version_minor": 0
      },
      "text/plain": [
       "Batches:   0%|          | 0/313 [00:00<?, ?it/s]"
      ]
     },
     "metadata": {},
     "output_type": "display_data"
    },
    {
     "data": {
      "application/vnd.jupyter.widget-view+json": {
       "model_id": "5070b0a3a39c4ade82536fbff781aa45",
       "version_major": 2,
       "version_minor": 0
      },
      "text/plain": [
       "Batches:   0%|          | 0/313 [00:00<?, ?it/s]"
      ]
     },
     "metadata": {},
     "output_type": "display_data"
    },
    {
     "data": {
      "application/vnd.jupyter.widget-view+json": {
       "model_id": "f34b2727f1024e119bb2e65300335683",
       "version_major": 2,
       "version_minor": 0
      },
      "text/plain": [
       "Batches:   0%|          | 0/4 [00:00<?, ?it/s]"
      ]
     },
     "metadata": {},
     "output_type": "display_data"
    }
   ],
   "source": [
    "document_store.update_embeddings(retriever)"
   ]
  },
  {
   "cell_type": "code",
   "execution_count": 19,
   "id": "10318b8c-7e75-45bf-9743-6aeede61bbe3",
   "metadata": {},
   "outputs": [],
   "source": [
    "document_store.save(\"../data/arxiv/sample.faiss\")"
   ]
  },
  {
   "cell_type": "markdown",
   "id": "8ba3cf5b-79ea-4180-ac4f-7bc8df9e282a",
   "metadata": {},
   "source": [
    "<h2>Document semantic search</h2>"
   ]
  },
  {
   "cell_type": "markdown",
   "id": "2c5acdfa-6eee-4c5b-b590-01aae565f821",
   "metadata": {},
   "source": [
    "<h3>Search with single query</h3>"
   ]
  },
  {
   "cell_type": "code",
   "execution_count": 20,
   "id": "40e037ac-b561-4af5-84f7-706afdf49c5f",
   "metadata": {},
   "outputs": [],
   "source": [
    "pipeline = DocumentSearchPipeline(retriever)"
   ]
  },
  {
   "cell_type": "code",
   "execution_count": 24,
   "id": "4f23d4a8-1d31-4781-880a-6efb71cb4260",
   "metadata": {},
   "outputs": [
    {
     "data": {
      "application/vnd.jupyter.widget-view+json": {
       "model_id": "7277cfadaa3045fb93fc82a3a214de4c",
       "version_major": 2,
       "version_minor": 0
      },
      "text/plain": [
       "Batches:   0%|          | 0/1 [00:00<?, ?it/s]"
      ]
     },
     "metadata": {},
     "output_type": "display_data"
    }
   ],
   "source": [
    "result = pipeline.run(\"monte carlo simulation in the study of pulsars\", params={\"Retriever\": {\"top_k\": 5}})"
   ]
  },
  {
   "cell_type": "code",
   "execution_count": 25,
   "id": "449d8f07-0c4f-48d1-8761-3c9906304ea7",
   "metadata": {},
   "outputs": [
    {
     "name": "stdout",
     "output_type": "stream",
     "text": [
      "Population Synthesis of Normal Radio and Gamma-ray Pulsars Using Markov  Chain Monte Carlo Techniques   We present preliminary results of a pulsar population synthesis of normalpulsars from the Galactic disk using a Markov Chain Monte Carlo method tobetter understand the parameter space of the assumed model. We use the Kuipertest, similar to the Kolmogorov-Smirnov test, to compare the cumulativedistributions of chosen observables of detected radio pulsars with thosesimulated for various parameters. Our code simulates pulsars at birth usingMonte Carlo techniques and evolves them to the present assuming initialspatial, kick velocity, magnetic field, and period distributions. Pulsars arespun down to the present, given radio and gamma-ray emission characteristics,filtered through ten selected radio surveys, and a {\\it Fermi} all-skythreshold map. Each chain begins with a different random seed and searches aten-dimensional parameter space for regions of high probability for a total ofone thousand different simulations before ending. The code investigates boththe \"large world\" as well as the \"small world\" of the parameter space. We applythe K-means clustering algorithm to verify if the chains reveal a single ormultiple regions of significance. The outcome of the combined set of chains isthe weighted average and deviation of each of the ten parameters describing themodel. While the model reproduces reasonably well the detected distributions ofnormal radio pulsars, it does not replicate the predicted detected $\\dot P - P$distribution of {\\it Fermi} pulsars. The simulations do not produce sufficientnumbers of young, high-$\\dot E$ pulsars in the Galactic plane.\n"
     ]
    }
   ],
   "source": [
    "print(result[\"documents\"][0].content)"
   ]
  },
  {
   "cell_type": "code",
   "execution_count": 26,
   "id": "4e3a082b-fbee-4b72-a438-8ef90e08671a",
   "metadata": {},
   "outputs": [
    {
     "name": "stdout",
     "output_type": "stream",
     "text": [
      "0.7391471571930097\n"
     ]
    }
   ],
   "source": [
    "print(result[\"documents\"][0].score)"
   ]
  },
  {
   "cell_type": "code",
   "execution_count": 27,
   "id": "f7a4e42b-aacf-471a-9acc-d32f31a42f2b",
   "metadata": {},
   "outputs": [
    {
     "name": "stdout",
     "output_type": "stream",
     "text": [
      "Population study for gamma-ray pulsars with the outer gap model   Inspired by increase of population of $\\gamma$-ray emitting pulsars by the$Fermi$ telescope, we perform a population study for $\\gamma$-ray emittingcanonical pulsars. We use a Monte-Carlo technique to simulate the Galacticpopulation of neutron stars and the radio pulsars. For each simulated neutronstar, we consider the $\\gamma$-ray emission from the outer gap accelerator inthe magnetosphere. In our outer gap model, we apply the gap closure mechanismproposed by Takata et al., in which both photon-photon pair-creation andmagnetic pair-creation processes are considered. Simulating the sensitivitiesof previous major radio surveys, our simulation predicts that there are $\\sim18-23$ radio loud and $\\sim 26-34$ $\\gamma$-ray-selected $\\gamma$-ray pulsars,which can be detected with a $\\gamma$-ray flux $F_{\\gamma}\\ge10^{-10}~\\mathrm{erg/cm^2 s}$. Applying the sensitivity of the six-monthobservation of the $Fermi$ telescope, 40-61 radio-selected and 36-75$\\gamma$-ray selected pulsars are detected within our simulation. We show thatthe distributions of various pulsar parameters for the simulated $\\gamma$-raypulsars can be consistent with the observed distribution of the $\\gamma$-raypulsars detected by the $Fermi$ telescope. We also predict that $\\sim 64$radio-loud and $\\sim 340$ $\\gamma$-ray-selected pulsars irradiate the Earthwith a flux $F_{\\gamma}\\ge 10^{-11}~\\mathrm{erg/cm^2 s}$, and most of those$\\gamma$-ray pulsars are distributing with a distance more than 1~kpc and aflux $F_{\\gamma}\\sim 10^{-11}~\\mathrm{erg/cm^2 s}$. The ration between theradio-selected and $\\gamma$-ray-selected pulsars depend on the sensitivity ofthe radio surveys. We also discuss the Galactic distribution of theunidentified $Fermi$ sources and the canonical $\\gamma$-ray pulsars.\n"
     ]
    }
   ],
   "source": [
    "print(result[\"documents\"][1].content)"
   ]
  },
  {
   "cell_type": "code",
   "execution_count": 28,
   "id": "ae141e78-0d30-4146-b8a8-b08dc046f7c2",
   "metadata": {},
   "outputs": [
    {
     "name": "stdout",
     "output_type": "stream",
     "text": [
      "0.737303920741257\n"
     ]
    }
   ],
   "source": [
    "print(result[\"documents\"][1].score)"
   ]
  },
  {
   "cell_type": "markdown",
   "id": "4e94e4f7-9195-4394-a788-fc97b5ea5989",
   "metadata": {},
   "source": [
    "<h3>Search for most similar document</h3>"
   ]
  },
  {
   "cell_type": "code",
   "execution_count": 35,
   "id": "209169ca-ba62-4d51-8e34-033717c91c06",
   "metadata": {},
   "outputs": [],
   "source": [
    "from haystack.pipelines import MostSimilarDocumentsPipeline"
   ]
  },
  {
   "cell_type": "code",
   "execution_count": 33,
   "id": "c3f8362c-86d9-4603-a4ab-d336f5ff138d",
   "metadata": {},
   "outputs": [
    {
     "data": {
      "text/plain": [
       "{'count': 260102,\n",
       " 'chars_mean': 949.4979969396621,\n",
       " 'chars_max': 2123,\n",
       " 'chars_min': 10,\n",
       " 'chars_median': 920.0}"
      ]
     },
     "execution_count": 33,
     "metadata": {},
     "output_type": "execute_result"
    }
   ],
   "source": [
    "document_store.describe_documents(index=None)"
   ]
  },
  {
   "cell_type": "code",
   "execution_count": 34,
   "id": "d7d1ed1b-ad03-4bb2-9fb0-8f6a374f3e6f",
   "metadata": {},
   "outputs": [],
   "source": [
    "doc_generator = document_store.get_all_documents_generator()"
   ]
  },
  {
   "cell_type": "code",
   "execution_count": 37,
   "id": "6728cb5d-b805-48c3-9b01-fc0ea666e8fe",
   "metadata": {},
   "outputs": [],
   "source": [
    "example_doc = next(doc_generator)"
   ]
  },
  {
   "cell_type": "code",
   "execution_count": 39,
   "id": "c76b0a06-d53c-4508-854f-74c2678454b7",
   "metadata": {},
   "outputs": [
    {
     "data": {
      "text/plain": [
       "<Document: {'content': 'Enrichments of Boolean Algebras: a uniform treatment of some classical  and some novel examples   We give a unified treatment of the model theory of various enrichments ofinfinite atomic Boolean algebras, with special attention toquantifier-eliminations, complete axiomatizations and decidability. A classicalexample is the enrichment by a predicate for the ideal of finite sets, and anovel one involves predicates giving congruence conditions on the cardinalityof finite sets. We focus on three examples, and classify them by expressivepower.', 'content_type': 'text', 'score': None, 'meta': {'vector_id': '1', 'id': '1310.3527', 'authors': 'Jamshid Derakhshan, Angus Macintyre (accepted for publication in\\n  Fundamenta Mathematicae)', 'comments': None, 'journal-ref': None, 'doi': None, 'report-no': None, 'categories': 'math.LO', '_split_id': 0}, 'embedding': None, 'id': '1001005e687fae0fe32ce32a387a788e'}>"
      ]
     },
     "execution_count": 39,
     "metadata": {},
     "output_type": "execute_result"
    }
   ],
   "source": [
    "example_doc"
   ]
  },
  {
   "cell_type": "code",
   "execution_count": 38,
   "id": "4bf4292a-3b0b-4362-924c-4d2c6c0e4bc5",
   "metadata": {},
   "outputs": [],
   "source": [
    "msd_pipeline = MostSimilarDocumentsPipeline(document_store)"
   ]
  },
  {
   "cell_type": "code",
   "execution_count": 41,
   "id": "1bbf6055-81ce-4388-9105-24a9e4ec203a",
   "metadata": {},
   "outputs": [
    {
     "data": {
      "text/plain": [
       "[[<Document: {'content': 'Enrichments of Boolean Algebras: a uniform treatment of some classical  and some novel examples   We give a unified treatment of the model theory of various enrichments ofinfinite atomic Boolean algebras, with special attention toquantifier-eliminations, complete axiomatizations and decidability. A classicalexample is the enrichment by a predicate for the ideal of finite sets, and anovel one involves predicates giving congruence conditions on the cardinalityof finite sets. We focus on three examples, and classify them by expressivepower.', 'content_type': 'text', 'score': 0.7724444979362711, 'meta': {'id': '1310.3527', 'authors': 'Jamshid Derakhshan, Angus Macintyre (accepted for publication in\\n  Fundamenta Mathematicae)', 'comments': None, 'journal-ref': None, 'doi': None, 'report-no': None, 'categories': 'math.LO', '_split_id': 0, 'vector_id': '1'}, 'embedding': None, 'id': '1001005e687fae0fe32ce32a387a788e'}>,\n",
       "  <Document: {'content': 'Complexity assessments for decidable fragments of Set Theory. IV: A  quadratic reduction of constraints over nested sets to Boolean formulae   As a contribution to quantitative set-theoretic inferencing, a translation isproposed of conjunctions of literals of the forms $x=y\\\\setminus z$, $x \\\\neqy\\\\setminus z$, and $z =\\\\{x\\\\}$, where $x,y,z$ stand for variables ranging overthe von Neumann universe of sets, into unquantified Boolean formulae of arather simple conjunctive normal form. The formulae in the target languageinvolve variables ranging over a Boolean ring of sets, along with a differenceoperator and relators designating equality, non-disjointness and inclusion.Moreover, the result of each translation is a conjunction of literals of theforms $x=y\\\\setminus z$, $x\\\\neq y\\\\setminus z$ and of implications whoseantecedents are isolated literals and whose consequents are either inclusions(strict or non-strict) between variables, or equalities between variables.Besides reflecting a simple and natural semantics, which ensuressatisfiability-preservation, the proposed translation has quadratic algorithmictime-complexity, and bridges two languages both of which are known to have anNP-complete satisfiability problem.', 'content_type': 'text', 'score': 0.7405673204087843, 'meta': {'id': '2112.04797', 'authors': 'Domenico Cantone, Andrea De Domenico, Pietro Maugeri, Eugenio G.\\n  Omodeo', 'comments': None, 'journal-ref': None, 'doi': None, 'report-no': None, 'categories': 'cs.LO cs.AI', '_split_id': 0, 'vector_id': '2965'}, 'embedding': None, 'id': '12b51705f6eb8f86ad4d84708bd80fdb'}>,\n",
       "  <Document: {'content': 'Stone duality, topological algebra, and recognition   Our main result is that any topological algebra based on a Boolean space isthe extended Stone dual space of a certain associated Boolean algebra withadditional operations. A particular case of this result is that the profinitecompletion of any abstract algebra is the extended Stone dual space of theBoolean algebra of recognizable subsets of the abstract algebra endowed withcertain residuation operations. These results identify a connection betweentopological algebra as applied in algebra and Stone duality as applied inlogic, and show that the notion of recognition originating in computer scienceis intrinsic to profinite completion in mathematics in general. This connectionunderlies a number of recent results in automata theory including ageneralization of Eilenberg-Reiterman theory for regular languages and a newnotion of compact recognition applying beyond the setting of regular languages.The purpose of this paper is to give the underlying duality theoretic result inits general form. Further we illustrate the power of the result by providing afew applications in topological algebra and language theory. In particular, wegive a simple proof of the fact that any topological algebra quotient of aprofinite algebra which is again based on a Boolean space is in fact aprofinite algebra and we derive the conditions dual to the ones of the originalEilenberg theorem in a fully modular manner. We cast our results in the settingof extended Priestley duality for distributive lattices with additionaloperations as some classes of languages of interest in automata fail to beclosed under complementation.', 'content_type': 'text', 'score': 0.7381984025549398, 'meta': {'id': '1309.2422', 'authors': 'Mai Gehrke (LIAFA)', 'comments': None, 'journal-ref': None, 'doi': None, 'report-no': None, 'categories': 'math.LO cs.FL cs.LO math.GN math.RA', '_split_id': 0, 'vector_id': '101958'}, 'embedding': None, 'id': '6e26372e07cfc6450f58b886422c649a'}>,\n",
       "  <Document: {'content': 'On the Syntax of Logic and Set Theory   We introduce an extension of the propositional calculus to include abstractsof predicates and quantifiers, employing a single rule along with a novelcomprehension schema and a principle of extensionality, which are substitutedfor the Bernays postulates for quantifiers and the comprehension schemata of ZFand other set theories. We prove that it is consistent in any finite Booleansubset lattice. We investigate the antinomies of Russell, Cantor, Burali-Forti,and others, and discuss the relationship of the system to other set theoreticsystems ZF, NBG, and NF. We discuss two methods of axiomatizing higher orderquantification and abstraction, and then very briefly discuss the applicationof one of these methods to areas of mathematics outside of logic.', 'content_type': 'text', 'score': 0.7380938640256073, 'meta': {'id': '1003.4102', 'authors': 'Lucius T. Schoenbaum', 'comments': '34 pages, accepted, to appear in the Review of Symbolic Logic', 'journal-ref': None, 'doi': None, 'report-no': None, 'categories': 'math.LO', '_split_id': 0, 'vector_id': '224031'}, 'embedding': None, 'id': 'df01631d1ef070add5923f4adb3a0107'}>,\n",
       "  <Document: {'content': 'A solution to the finitizability problem for quantifier logics with  equality   We consider countable so-called rich subsemigroups of (\\\\omega\\\\omega,\\\\circ);each such semigroup $T$ gives a variety CPEA_T that is axiomatizable by afinite schema of equations taken in a countable subsignature of that of\\\\omega-dimensional cylindric-polyadic algebras with equality wheresubstitutions are restricted to maps in T. It is shown that for any such T,A\\\\in CPEA_T iff A is representable as a concrete set algebra of \\\\omega-aryrelations. The operations in the signature are set-theoretically interpretedlike in polyadic equality set algebras, but such operations are relativized toa union of cartesian spaces that are not necessarily disjoint. This is a formof guarding semantics. We show that CPEA_T is canonical and atom-canonical.Imposing an extra condition on T, we prove that atomic algebras in CPEA_T arecompletely representable and that CPEA_T has the super amalgamation property.If T is rich and {\\\\it finitely represented}, it is shown that CPEA_T is termdefinitionally equivalent to a finitely axiomatizable Sahlqvist variety. Suchsemigroups exist. This can be regarded as a solution to the centralfinitizability problem in algebraic logic for first order logic {\\\\it withequality} if we do not insist on full fledged commutativity of quantifiers. Thefinite dimensional case is approached from the view point of guarded and cliqueguarded (relativized) semantics of fragments of first order logic usingfinitely many variables. Both positive and negative results are presented.', 'content_type': 'text', 'score': 0.7372571632114389, 'meta': {'id': '1503.00376', 'authors': 'Tarek Sayed Ahmed', 'comments': None, 'journal-ref': None, 'doi': None, 'report-no': None, 'categories': 'math.LO', '_split_id': 0, 'vector_id': '188358'}, 'embedding': None, 'id': 'be2d4f721cc14f4689a7c0377f223372'}>]]"
      ]
     },
     "execution_count": 41,
     "metadata": {},
     "output_type": "execute_result"
    }
   ],
   "source": [
    "msd_pipeline.run(document_ids=[\"1001005e687fae0fe32ce32a387a788e\"])"
   ]
  },
  {
   "cell_type": "markdown",
   "id": "9899d10f-c58b-4f9a-aac2-8fe25eaeb798",
   "metadata": {},
   "source": [
    "<h3>Question answer system</h3>"
   ]
  },
  {
   "cell_type": "code",
   "execution_count": 42,
   "id": "a62db5bb-81a2-40c8-94ca-2c38fd130c86",
   "metadata": {},
   "outputs": [],
   "source": [
    "from haystack.nodes import FARMReader"
   ]
  },
  {
   "cell_type": "code",
   "execution_count": 43,
   "id": "e73bf85b-e174-4557-b747-c2505cf71cbe",
   "metadata": {},
   "outputs": [
    {
     "name": "stderr",
     "output_type": "stream",
     "text": [
      "INFO:haystack.modeling.utils:Using devices: CUDA:0 - Number of GPUs: 1\n",
      "INFO:haystack.modeling.utils:Using devices: CUDA:0 - Number of GPUs: 1\n",
      "INFO:haystack.modeling.model.language_model: * LOADING MODEL: 'deepset/roberta-base-squad2' (Roberta)\n",
      "INFO:haystack.modeling.model.language_model:Auto-detected model language: english\n",
      "INFO:haystack.modeling.model.language_model:Loaded 'deepset/roberta-base-squad2' (Roberta model) from model hub.\n",
      "INFO:haystack.modeling.utils:Using devices: CUDA:0 - Number of GPUs: 1\n"
     ]
    }
   ],
   "source": [
    "reader = FARMReader(model_name_or_path=\"deepset/roberta-base-squad2\", use_gpu=True)"
   ]
  },
  {
   "cell_type": "code",
   "execution_count": 44,
   "id": "5b81a982-e9f3-4616-8376-b481c980f0d0",
   "metadata": {},
   "outputs": [],
   "source": [
    "from haystack.pipelines import ExtractiveQAPipeline\n",
    "\n",
    "pipe = ExtractiveQAPipeline(reader, retriever)"
   ]
  },
  {
   "cell_type": "code",
   "execution_count": 45,
   "id": "c68bd073-1175-4772-b8fa-12380a0a4a93",
   "metadata": {},
   "outputs": [
    {
     "data": {
      "application/vnd.jupyter.widget-view+json": {
       "model_id": "033ab1319e1d49c2bd01e108c8308af8",
       "version_major": 2,
       "version_minor": 0
      },
      "text/plain": [
       "Batches:   0%|          | 0/1 [00:00<?, ?it/s]"
      ]
     },
     "metadata": {},
     "output_type": "display_data"
    },
    {
     "name": "stderr",
     "output_type": "stream",
     "text": [
      "Inferencing Samples: 100%|███████| 1/1 [00:00<00:00,  6.32 Batches/s]\n"
     ]
    }
   ],
   "source": [
    "prediction = pipe.run(\n",
    "    query=\"What is the average life span of a pulsar star?\", \n",
    "    params={\"Retriever\": {\"top_k\": 10}, \"Reader\": {\"top_k\": 5}}\n",
    ")"
   ]
  },
  {
   "cell_type": "code",
   "execution_count": 46,
   "id": "f57a1d12-fb54-4eb3-9ed7-8ac5fd960fd4",
   "metadata": {},
   "outputs": [
    {
     "name": "stdout",
     "output_type": "stream",
     "text": [
      "\n",
      "Query: What is the average life span of a pulsar star?\n",
      "Answers:\n",
      "[   {   'answer': '4.0E4 years',\n",
      "        'context': 'The average lifetime of stars in this phase isestimated to '\n",
      "                   'be about 4.0E4 years, indicating they will undergo at most '\n",
      "                   'onemore thermal pulse before lea'},\n",
      "    {   'answer': '104 years',\n",
      "        'context': ' a period derivative of 3.614 x10-13 s s-1 . Its '\n",
      "                   'characteristic age of 104 years is comparable to '\n",
      "                   'thatestimated for the SNR. It is conjectured that mo'},\n",
      "    {   'answer': '350 kyr',\n",
      "        'context': 'rellBank and Parkes show that it is young, with a '\n",
      "                   'characteristic age of 350 kyr,and is in a 231-day, highly '\n",
      "                   'eccentric orbit with a companion whose mas'},\n",
      "    {   'answer': '723 yr',\n",
      "        'context': 'ted with the supernovaremnant Kes 75. With a '\n",
      "                   'characteristic age of only 723 yr, consistent with theage '\n",
      "                   'of Kes 75, PSR J1846-0258 is the youngest pulsa'},\n",
      "    {   'answer': '2.4-hour',\n",
      "        'context': '39A/B is a highly relativistic doubleneutron star (DNS) '\n",
      "                   'binary, with a 2.4-hour orbital period. The low mass of '\n",
      "                   'thesecond-formed NS, as well the low s'}]\n"
     ]
    }
   ],
   "source": [
    "from haystack.utils import print_answers\n",
    "\n",
    "print_answers(prediction, details=\"minimum\")"
   ]
  },
  {
   "cell_type": "code",
   "execution_count": null,
   "id": "24991cbf-cf2d-4151-85f4-92c5ee17d4ba",
   "metadata": {},
   "outputs": [],
   "source": []
  }
 ],
 "metadata": {
  "kernelspec": {
   "display_name": "haystack",
   "language": "python",
   "name": "haystack"
  },
  "language_info": {
   "codemirror_mode": {
    "name": "ipython",
    "version": 3
   },
   "file_extension": ".py",
   "mimetype": "text/x-python",
   "name": "python",
   "nbconvert_exporter": "python",
   "pygments_lexer": "ipython3",
   "version": "3.10.8"
  }
 },
 "nbformat": 4,
 "nbformat_minor": 5
}
